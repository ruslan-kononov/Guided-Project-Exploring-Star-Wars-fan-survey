{
 "cells": [
  {
   "cell_type": "markdown",
   "metadata": {},
   "source": [
    "# Analyzing Star Wars Survey\n",
    "## Introduction\n",
    "While waiting for Star Wars: <a href=\"https://en.wikipedia.org/wiki/Star_Wars:_The_Force_Awakens\">The Force Awakens</a> to come out in 2015, the team at <a href=\"\">FiveThirtyEight</a> became interested in answering some questions about Star Wars fans. In particular, they wondered: is “The Empire Strikes Back” truly considered the best episode of the franchise?\n",
    "\n",
    "The team needed to collect data addressing this question. To do this, they surveyed Star Wars fans using the online tool SurveyMonkey. They received 835 total responses, which are available on their <a href=\"https://github.com/fivethirtyeight/data/tree/master/star-wars-survey\">GitHub repository</a>.\n",
    "\n",
    "For this project, we will be cleaning and exploring the data set in Jupyter notebook. We will also answer the following questions:\n",
    "- Is “The Empire Strikes Back” the best episode of the franchise?\n",
    "- Are there any differences in rankings and the size of the audience across genders?\n",
    "- How does an average fan of the Star Wars series look like (in terms of his/her gender, age, education level and household income)? \n",
    "   \n",
    "\n",
    "## Data exploration"
   ]
  },
  {
   "cell_type": "code",
   "execution_count": 1,
   "metadata": {},
   "outputs": [],
   "source": [
    "import pandas as pd\n",
    "import numpy as np\n",
    "from numpy import arange\n",
    "\n",
    "import matplotlib.pyplot as plt\n",
    "import plotly.express as px\n",
    "\n",
    "plt.style.use('fivethirtyeight')\n",
    "\n",
    "pd.set_option('display.max_columns', 40)\n",
    "\n",
    "star_wars = pd.read_csv(\"StarWars.csv\", encoding=\"ISO-8859-1\")"
   ]
  },
  {
   "cell_type": "code",
   "execution_count": 2,
   "metadata": {},
   "outputs": [
    {
     "name": "stdout",
     "output_type": "stream",
     "text": [
      "<class 'pandas.core.frame.DataFrame'>\n",
      "RangeIndex: 1187 entries, 0 to 1186\n",
      "Data columns (total 38 columns):\n",
      "RespondentID                                                                                                                                     1186 non-null float64\n",
      "Have you seen any of the 6 films in the Star Wars franchise?                                                                                     1187 non-null object\n",
      "Do you consider yourself to be a fan of the Star Wars film franchise?                                                                            837 non-null object\n",
      "Which of the following Star Wars films have you seen? Please select all that apply.                                                              674 non-null object\n",
      "Unnamed: 4                                                                                                                                       572 non-null object\n",
      "Unnamed: 5                                                                                                                                       551 non-null object\n",
      "Unnamed: 6                                                                                                                                       608 non-null object\n",
      "Unnamed: 7                                                                                                                                       759 non-null object\n",
      "Unnamed: 8                                                                                                                                       739 non-null object\n",
      "Please rank the Star Wars films in order of preference with 1 being your favorite film in the franchise and 6 being your least favorite film.    836 non-null object\n",
      "Unnamed: 10                                                                                                                                      837 non-null object\n",
      "Unnamed: 11                                                                                                                                      836 non-null object\n",
      "Unnamed: 12                                                                                                                                      837 non-null object\n",
      "Unnamed: 13                                                                                                                                      837 non-null object\n",
      "Unnamed: 14                                                                                                                                      837 non-null object\n",
      "Please state whether you view the following characters favorably, unfavorably, or are unfamiliar with him/her.                                   830 non-null object\n",
      "Unnamed: 16                                                                                                                                      832 non-null object\n",
      "Unnamed: 17                                                                                                                                      832 non-null object\n",
      "Unnamed: 18                                                                                                                                      824 non-null object\n",
      "Unnamed: 19                                                                                                                                      826 non-null object\n",
      "Unnamed: 20                                                                                                                                      815 non-null object\n",
      "Unnamed: 21                                                                                                                                      827 non-null object\n",
      "Unnamed: 22                                                                                                                                      821 non-null object\n",
      "Unnamed: 23                                                                                                                                      813 non-null object\n",
      "Unnamed: 24                                                                                                                                      828 non-null object\n",
      "Unnamed: 25                                                                                                                                      831 non-null object\n",
      "Unnamed: 26                                                                                                                                      822 non-null object\n",
      "Unnamed: 27                                                                                                                                      815 non-null object\n",
      "Unnamed: 28                                                                                                                                      827 non-null object\n",
      "Which character shot first?                                                                                                                      829 non-null object\n",
      "Are you familiar with the Expanded Universe?                                                                                                     829 non-null object\n",
      "Do you consider yourself to be a fan of the Expanded Universe?æ                                                                                 214 non-null object\n",
      "Do you consider yourself to be a fan of the Star Trek franchise?                                                                                 1069 non-null object\n",
      "Gender                                                                                                                                           1047 non-null object\n",
      "Age                                                                                                                                              1047 non-null object\n",
      "Household Income                                                                                                                                 859 non-null object\n",
      "Education                                                                                                                                        1037 non-null object\n",
      "Location (Census Region)                                                                                                                         1044 non-null object\n",
      "dtypes: float64(1), object(37)\n",
      "memory usage: 352.5+ KB\n"
     ]
    }
   ],
   "source": [
    "star_wars.info()"
   ]
  },
  {
   "cell_type": "code",
   "execution_count": 3,
   "metadata": {},
   "outputs": [
    {
     "data": {
      "text/html": [
       "<div>\n",
       "<style scoped>\n",
       "    .dataframe tbody tr th:only-of-type {\n",
       "        vertical-align: middle;\n",
       "    }\n",
       "\n",
       "    .dataframe tbody tr th {\n",
       "        vertical-align: top;\n",
       "    }\n",
       "\n",
       "    .dataframe thead th {\n",
       "        text-align: right;\n",
       "    }\n",
       "</style>\n",
       "<table border=\"1\" class=\"dataframe\">\n",
       "  <thead>\n",
       "    <tr style=\"text-align: right;\">\n",
       "      <th></th>\n",
       "      <th>RespondentID</th>\n",
       "      <th>Have you seen any of the 6 films in the Star Wars franchise?</th>\n",
       "      <th>Do you consider yourself to be a fan of the Star Wars film franchise?</th>\n",
       "      <th>Which of the following Star Wars films have you seen? Please select all that apply.</th>\n",
       "      <th>Unnamed: 4</th>\n",
       "      <th>Unnamed: 5</th>\n",
       "      <th>Unnamed: 6</th>\n",
       "      <th>Unnamed: 7</th>\n",
       "      <th>Unnamed: 8</th>\n",
       "      <th>Please rank the Star Wars films in order of preference with 1 being your favorite film in the franchise and 6 being your least favorite film.</th>\n",
       "      <th>Unnamed: 10</th>\n",
       "      <th>Unnamed: 11</th>\n",
       "      <th>Unnamed: 12</th>\n",
       "      <th>Unnamed: 13</th>\n",
       "      <th>Unnamed: 14</th>\n",
       "      <th>Please state whether you view the following characters favorably, unfavorably, or are unfamiliar with him/her.</th>\n",
       "      <th>Unnamed: 16</th>\n",
       "      <th>Unnamed: 17</th>\n",
       "      <th>Unnamed: 18</th>\n",
       "      <th>Unnamed: 19</th>\n",
       "      <th>Unnamed: 20</th>\n",
       "      <th>Unnamed: 21</th>\n",
       "      <th>Unnamed: 22</th>\n",
       "      <th>Unnamed: 23</th>\n",
       "      <th>Unnamed: 24</th>\n",
       "      <th>Unnamed: 25</th>\n",
       "      <th>Unnamed: 26</th>\n",
       "      <th>Unnamed: 27</th>\n",
       "      <th>Unnamed: 28</th>\n",
       "      <th>Which character shot first?</th>\n",
       "      <th>Are you familiar with the Expanded Universe?</th>\n",
       "      <th>Do you consider yourself to be a fan of the Expanded Universe?æ</th>\n",
       "      <th>Do you consider yourself to be a fan of the Star Trek franchise?</th>\n",
       "      <th>Gender</th>\n",
       "      <th>Age</th>\n",
       "      <th>Household Income</th>\n",
       "      <th>Education</th>\n",
       "      <th>Location (Census Region)</th>\n",
       "    </tr>\n",
       "  </thead>\n",
       "  <tbody>\n",
       "    <tr>\n",
       "      <th>0</th>\n",
       "      <td>NaN</td>\n",
       "      <td>Response</td>\n",
       "      <td>Response</td>\n",
       "      <td>Star Wars: Episode I  The Phantom Menace</td>\n",
       "      <td>Star Wars: Episode II  Attack of the Clones</td>\n",
       "      <td>Star Wars: Episode III  Revenge of the Sith</td>\n",
       "      <td>Star Wars: Episode IV  A New Hope</td>\n",
       "      <td>Star Wars: Episode V The Empire Strikes Back</td>\n",
       "      <td>Star Wars: Episode VI Return of the Jedi</td>\n",
       "      <td>Star Wars: Episode I  The Phantom Menace</td>\n",
       "      <td>Star Wars: Episode II  Attack of the Clones</td>\n",
       "      <td>Star Wars: Episode III  Revenge of the Sith</td>\n",
       "      <td>Star Wars: Episode IV  A New Hope</td>\n",
       "      <td>Star Wars: Episode V The Empire Strikes Back</td>\n",
       "      <td>Star Wars: Episode VI Return of the Jedi</td>\n",
       "      <td>Han Solo</td>\n",
       "      <td>Luke Skywalker</td>\n",
       "      <td>Princess Leia Organa</td>\n",
       "      <td>Anakin Skywalker</td>\n",
       "      <td>Obi Wan Kenobi</td>\n",
       "      <td>Emperor Palpatine</td>\n",
       "      <td>Darth Vader</td>\n",
       "      <td>Lando Calrissian</td>\n",
       "      <td>Boba Fett</td>\n",
       "      <td>C-3P0</td>\n",
       "      <td>R2 D2</td>\n",
       "      <td>Jar Jar Binks</td>\n",
       "      <td>Padme Amidala</td>\n",
       "      <td>Yoda</td>\n",
       "      <td>Response</td>\n",
       "      <td>Response</td>\n",
       "      <td>Response</td>\n",
       "      <td>Response</td>\n",
       "      <td>Response</td>\n",
       "      <td>Response</td>\n",
       "      <td>Response</td>\n",
       "      <td>Response</td>\n",
       "      <td>Response</td>\n",
       "    </tr>\n",
       "    <tr>\n",
       "      <th>1</th>\n",
       "      <td>3.292880e+09</td>\n",
       "      <td>Yes</td>\n",
       "      <td>Yes</td>\n",
       "      <td>Star Wars: Episode I  The Phantom Menace</td>\n",
       "      <td>Star Wars: Episode II  Attack of the Clones</td>\n",
       "      <td>Star Wars: Episode III  Revenge of the Sith</td>\n",
       "      <td>Star Wars: Episode IV  A New Hope</td>\n",
       "      <td>Star Wars: Episode V The Empire Strikes Back</td>\n",
       "      <td>Star Wars: Episode VI Return of the Jedi</td>\n",
       "      <td>3</td>\n",
       "      <td>2</td>\n",
       "      <td>1</td>\n",
       "      <td>4</td>\n",
       "      <td>5</td>\n",
       "      <td>6</td>\n",
       "      <td>Very favorably</td>\n",
       "      <td>Very favorably</td>\n",
       "      <td>Very favorably</td>\n",
       "      <td>Very favorably</td>\n",
       "      <td>Very favorably</td>\n",
       "      <td>Very favorably</td>\n",
       "      <td>Very favorably</td>\n",
       "      <td>Unfamiliar (N/A)</td>\n",
       "      <td>Unfamiliar (N/A)</td>\n",
       "      <td>Very favorably</td>\n",
       "      <td>Very favorably</td>\n",
       "      <td>Very favorably</td>\n",
       "      <td>Very favorably</td>\n",
       "      <td>Very favorably</td>\n",
       "      <td>I don't understand this question</td>\n",
       "      <td>Yes</td>\n",
       "      <td>No</td>\n",
       "      <td>No</td>\n",
       "      <td>Male</td>\n",
       "      <td>18-29</td>\n",
       "      <td>NaN</td>\n",
       "      <td>High school degree</td>\n",
       "      <td>South Atlantic</td>\n",
       "    </tr>\n",
       "    <tr>\n",
       "      <th>2</th>\n",
       "      <td>3.292880e+09</td>\n",
       "      <td>No</td>\n",
       "      <td>NaN</td>\n",
       "      <td>NaN</td>\n",
       "      <td>NaN</td>\n",
       "      <td>NaN</td>\n",
       "      <td>NaN</td>\n",
       "      <td>NaN</td>\n",
       "      <td>NaN</td>\n",
       "      <td>NaN</td>\n",
       "      <td>NaN</td>\n",
       "      <td>NaN</td>\n",
       "      <td>NaN</td>\n",
       "      <td>NaN</td>\n",
       "      <td>NaN</td>\n",
       "      <td>NaN</td>\n",
       "      <td>NaN</td>\n",
       "      <td>NaN</td>\n",
       "      <td>NaN</td>\n",
       "      <td>NaN</td>\n",
       "      <td>NaN</td>\n",
       "      <td>NaN</td>\n",
       "      <td>NaN</td>\n",
       "      <td>NaN</td>\n",
       "      <td>NaN</td>\n",
       "      <td>NaN</td>\n",
       "      <td>NaN</td>\n",
       "      <td>NaN</td>\n",
       "      <td>NaN</td>\n",
       "      <td>NaN</td>\n",
       "      <td>NaN</td>\n",
       "      <td>NaN</td>\n",
       "      <td>Yes</td>\n",
       "      <td>Male</td>\n",
       "      <td>18-29</td>\n",
       "      <td>$0 - $24,999</td>\n",
       "      <td>Bachelor degree</td>\n",
       "      <td>West South Central</td>\n",
       "    </tr>\n",
       "    <tr>\n",
       "      <th>3</th>\n",
       "      <td>3.292765e+09</td>\n",
       "      <td>Yes</td>\n",
       "      <td>No</td>\n",
       "      <td>Star Wars: Episode I  The Phantom Menace</td>\n",
       "      <td>Star Wars: Episode II  Attack of the Clones</td>\n",
       "      <td>Star Wars: Episode III  Revenge of the Sith</td>\n",
       "      <td>NaN</td>\n",
       "      <td>NaN</td>\n",
       "      <td>NaN</td>\n",
       "      <td>1</td>\n",
       "      <td>2</td>\n",
       "      <td>3</td>\n",
       "      <td>4</td>\n",
       "      <td>5</td>\n",
       "      <td>6</td>\n",
       "      <td>Somewhat favorably</td>\n",
       "      <td>Somewhat favorably</td>\n",
       "      <td>Somewhat favorably</td>\n",
       "      <td>Somewhat favorably</td>\n",
       "      <td>Somewhat favorably</td>\n",
       "      <td>Unfamiliar (N/A)</td>\n",
       "      <td>Unfamiliar (N/A)</td>\n",
       "      <td>Unfamiliar (N/A)</td>\n",
       "      <td>Unfamiliar (N/A)</td>\n",
       "      <td>Unfamiliar (N/A)</td>\n",
       "      <td>Unfamiliar (N/A)</td>\n",
       "      <td>Unfamiliar (N/A)</td>\n",
       "      <td>Unfamiliar (N/A)</td>\n",
       "      <td>Unfamiliar (N/A)</td>\n",
       "      <td>I don't understand this question</td>\n",
       "      <td>No</td>\n",
       "      <td>NaN</td>\n",
       "      <td>No</td>\n",
       "      <td>Male</td>\n",
       "      <td>18-29</td>\n",
       "      <td>$0 - $24,999</td>\n",
       "      <td>High school degree</td>\n",
       "      <td>West North Central</td>\n",
       "    </tr>\n",
       "    <tr>\n",
       "      <th>4</th>\n",
       "      <td>3.292763e+09</td>\n",
       "      <td>Yes</td>\n",
       "      <td>Yes</td>\n",
       "      <td>Star Wars: Episode I  The Phantom Menace</td>\n",
       "      <td>Star Wars: Episode II  Attack of the Clones</td>\n",
       "      <td>Star Wars: Episode III  Revenge of the Sith</td>\n",
       "      <td>Star Wars: Episode IV  A New Hope</td>\n",
       "      <td>Star Wars: Episode V The Empire Strikes Back</td>\n",
       "      <td>Star Wars: Episode VI Return of the Jedi</td>\n",
       "      <td>5</td>\n",
       "      <td>6</td>\n",
       "      <td>1</td>\n",
       "      <td>2</td>\n",
       "      <td>4</td>\n",
       "      <td>3</td>\n",
       "      <td>Very favorably</td>\n",
       "      <td>Very favorably</td>\n",
       "      <td>Very favorably</td>\n",
       "      <td>Very favorably</td>\n",
       "      <td>Very favorably</td>\n",
       "      <td>Somewhat favorably</td>\n",
       "      <td>Very favorably</td>\n",
       "      <td>Somewhat favorably</td>\n",
       "      <td>Somewhat unfavorably</td>\n",
       "      <td>Very favorably</td>\n",
       "      <td>Very favorably</td>\n",
       "      <td>Very favorably</td>\n",
       "      <td>Very favorably</td>\n",
       "      <td>Very favorably</td>\n",
       "      <td>I don't understand this question</td>\n",
       "      <td>No</td>\n",
       "      <td>NaN</td>\n",
       "      <td>Yes</td>\n",
       "      <td>Male</td>\n",
       "      <td>18-29</td>\n",
       "      <td>$100,000 - $149,999</td>\n",
       "      <td>Some college or Associate degree</td>\n",
       "      <td>West North Central</td>\n",
       "    </tr>\n",
       "  </tbody>\n",
       "</table>\n",
       "</div>"
      ],
      "text/plain": [
       "   RespondentID Have you seen any of the 6 films in the Star Wars franchise?  \\\n",
       "0           NaN                                           Response             \n",
       "1  3.292880e+09                                                Yes             \n",
       "2  3.292880e+09                                                 No             \n",
       "3  3.292765e+09                                                Yes             \n",
       "4  3.292763e+09                                                Yes             \n",
       "\n",
       "  Do you consider yourself to be a fan of the Star Wars film franchise?  \\\n",
       "0                                           Response                      \n",
       "1                                                Yes                      \n",
       "2                                                NaN                      \n",
       "3                                                 No                      \n",
       "4                                                Yes                      \n",
       "\n",
       "  Which of the following Star Wars films have you seen? Please select all that apply.  \\\n",
       "0           Star Wars: Episode I  The Phantom Menace                                    \n",
       "1           Star Wars: Episode I  The Phantom Menace                                    \n",
       "2                                                NaN                                    \n",
       "3           Star Wars: Episode I  The Phantom Menace                                    \n",
       "4           Star Wars: Episode I  The Phantom Menace                                    \n",
       "\n",
       "                                    Unnamed: 4  \\\n",
       "0  Star Wars: Episode II  Attack of the Clones   \n",
       "1  Star Wars: Episode II  Attack of the Clones   \n",
       "2                                          NaN   \n",
       "3  Star Wars: Episode II  Attack of the Clones   \n",
       "4  Star Wars: Episode II  Attack of the Clones   \n",
       "\n",
       "                                    Unnamed: 5  \\\n",
       "0  Star Wars: Episode III  Revenge of the Sith   \n",
       "1  Star Wars: Episode III  Revenge of the Sith   \n",
       "2                                          NaN   \n",
       "3  Star Wars: Episode III  Revenge of the Sith   \n",
       "4  Star Wars: Episode III  Revenge of the Sith   \n",
       "\n",
       "                          Unnamed: 6  \\\n",
       "0  Star Wars: Episode IV  A New Hope   \n",
       "1  Star Wars: Episode IV  A New Hope   \n",
       "2                                NaN   \n",
       "3                                NaN   \n",
       "4  Star Wars: Episode IV  A New Hope   \n",
       "\n",
       "                                     Unnamed: 7  \\\n",
       "0  Star Wars: Episode V The Empire Strikes Back   \n",
       "1  Star Wars: Episode V The Empire Strikes Back   \n",
       "2                                           NaN   \n",
       "3                                           NaN   \n",
       "4  Star Wars: Episode V The Empire Strikes Back   \n",
       "\n",
       "                                 Unnamed: 8  \\\n",
       "0  Star Wars: Episode VI Return of the Jedi   \n",
       "1  Star Wars: Episode VI Return of the Jedi   \n",
       "2                                       NaN   \n",
       "3                                       NaN   \n",
       "4  Star Wars: Episode VI Return of the Jedi   \n",
       "\n",
       "  Please rank the Star Wars films in order of preference with 1 being your favorite film in the franchise and 6 being your least favorite film.  \\\n",
       "0           Star Wars: Episode I  The Phantom Menace                                                                                              \n",
       "1                                                  3                                                                                              \n",
       "2                                                NaN                                                                                              \n",
       "3                                                  1                                                                                              \n",
       "4                                                  5                                                                                              \n",
       "\n",
       "                                   Unnamed: 10  \\\n",
       "0  Star Wars: Episode II  Attack of the Clones   \n",
       "1                                            2   \n",
       "2                                          NaN   \n",
       "3                                            2   \n",
       "4                                            6   \n",
       "\n",
       "                                   Unnamed: 11  \\\n",
       "0  Star Wars: Episode III  Revenge of the Sith   \n",
       "1                                            1   \n",
       "2                                          NaN   \n",
       "3                                            3   \n",
       "4                                            1   \n",
       "\n",
       "                         Unnamed: 12  \\\n",
       "0  Star Wars: Episode IV  A New Hope   \n",
       "1                                  4   \n",
       "2                                NaN   \n",
       "3                                  4   \n",
       "4                                  2   \n",
       "\n",
       "                                    Unnamed: 13  \\\n",
       "0  Star Wars: Episode V The Empire Strikes Back   \n",
       "1                                             5   \n",
       "2                                           NaN   \n",
       "3                                             5   \n",
       "4                                             4   \n",
       "\n",
       "                                Unnamed: 14  \\\n",
       "0  Star Wars: Episode VI Return of the Jedi   \n",
       "1                                         6   \n",
       "2                                       NaN   \n",
       "3                                         6   \n",
       "4                                         3   \n",
       "\n",
       "  Please state whether you view the following characters favorably, unfavorably, or are unfamiliar with him/her.  \\\n",
       "0                                           Han Solo                                                               \n",
       "1                                     Very favorably                                                               \n",
       "2                                                NaN                                                               \n",
       "3                                 Somewhat favorably                                                               \n",
       "4                                     Very favorably                                                               \n",
       "\n",
       "          Unnamed: 16           Unnamed: 17         Unnamed: 18  \\\n",
       "0      Luke Skywalker  Princess Leia Organa    Anakin Skywalker   \n",
       "1      Very favorably        Very favorably      Very favorably   \n",
       "2                 NaN                   NaN                 NaN   \n",
       "3  Somewhat favorably    Somewhat favorably  Somewhat favorably   \n",
       "4      Very favorably        Very favorably      Very favorably   \n",
       "\n",
       "          Unnamed: 19         Unnamed: 20       Unnamed: 21  \\\n",
       "0      Obi Wan Kenobi   Emperor Palpatine       Darth Vader   \n",
       "1      Very favorably      Very favorably    Very favorably   \n",
       "2                 NaN                 NaN               NaN   \n",
       "3  Somewhat favorably    Unfamiliar (N/A)  Unfamiliar (N/A)   \n",
       "4      Very favorably  Somewhat favorably    Very favorably   \n",
       "\n",
       "          Unnamed: 22           Unnamed: 23       Unnamed: 24  \\\n",
       "0    Lando Calrissian             Boba Fett             C-3P0   \n",
       "1    Unfamiliar (N/A)      Unfamiliar (N/A)    Very favorably   \n",
       "2                 NaN                   NaN               NaN   \n",
       "3    Unfamiliar (N/A)      Unfamiliar (N/A)  Unfamiliar (N/A)   \n",
       "4  Somewhat favorably  Somewhat unfavorably    Very favorably   \n",
       "\n",
       "        Unnamed: 25       Unnamed: 26       Unnamed: 27       Unnamed: 28  \\\n",
       "0             R2 D2     Jar Jar Binks     Padme Amidala              Yoda   \n",
       "1    Very favorably    Very favorably    Very favorably    Very favorably   \n",
       "2               NaN               NaN               NaN               NaN   \n",
       "3  Unfamiliar (N/A)  Unfamiliar (N/A)  Unfamiliar (N/A)  Unfamiliar (N/A)   \n",
       "4    Very favorably    Very favorably    Very favorably    Very favorably   \n",
       "\n",
       "        Which character shot first?  \\\n",
       "0                          Response   \n",
       "1  I don't understand this question   \n",
       "2                               NaN   \n",
       "3  I don't understand this question   \n",
       "4  I don't understand this question   \n",
       "\n",
       "  Are you familiar with the Expanded Universe?  \\\n",
       "0                                     Response   \n",
       "1                                          Yes   \n",
       "2                                          NaN   \n",
       "3                                           No   \n",
       "4                                           No   \n",
       "\n",
       "  Do you consider yourself to be a fan of the Expanded Universe?æ  \\\n",
       "0                                           Response                 \n",
       "1                                                 No                 \n",
       "2                                                NaN                 \n",
       "3                                                NaN                 \n",
       "4                                                NaN                 \n",
       "\n",
       "  Do you consider yourself to be a fan of the Star Trek franchise?    Gender  \\\n",
       "0                                           Response                Response   \n",
       "1                                                 No                    Male   \n",
       "2                                                Yes                    Male   \n",
       "3                                                 No                    Male   \n",
       "4                                                Yes                    Male   \n",
       "\n",
       "        Age     Household Income                         Education  \\\n",
       "0  Response             Response                          Response   \n",
       "1     18-29                  NaN                High school degree   \n",
       "2     18-29         $0 - $24,999                   Bachelor degree   \n",
       "3     18-29         $0 - $24,999                High school degree   \n",
       "4     18-29  $100,000 - $149,999  Some college or Associate degree   \n",
       "\n",
       "  Location (Census Region)  \n",
       "0                 Response  \n",
       "1           South Atlantic  \n",
       "2       West South Central  \n",
       "3       West North Central  \n",
       "4       West North Central  "
      ]
     },
     "execution_count": 3,
     "metadata": {},
     "output_type": "execute_result"
    }
   ],
   "source": [
    "star_wars.head(5)"
   ]
  },
  {
   "cell_type": "markdown",
   "metadata": {},
   "source": [
    "The data has several columns, including:\n",
    "\n",
    "- __RespondentID__ - An anonymized ID for the respondent (person taking the survey)\n",
    "- __Gender__ - The respondent's gender\n",
    "- __Age__ - The respondent's age\n",
    "- __Household Income__ - The respondent's income\n",
    "- __Education__ - The respondent's education level\n",
    "- __Location (Census Region)__ - The respondent's location\n",
    "- __Have you seen any of the 6 films in the Star Wars franchise?__ - Has a Yes or No response\n",
    "- __Do you consider yourself to be a fan of the Star Wars film franchise?__ - Has a Yes or No response\n",
    "\n",
    "There are several other columns containing answers to questions about the Star Wars movies. For some questions, the respondent had to check one or more boxes. This type of data is difficult to represent in columnar format. As a result, this data set needs a lot of cleaning.\n",
    "\n",
    "## Data cleaning\n",
    "\n",
    "First, we need to remove the invalid rows. We have to start with __RespondentID__ column that is supposed to be a unique ID for each respondent. If it is blank in some rows, we will remove those rows."
   ]
  },
  {
   "cell_type": "code",
   "execution_count": 4,
   "metadata": {},
   "outputs": [
    {
     "data": {
      "text/plain": [
       "1"
      ]
     },
     "execution_count": 4,
     "metadata": {},
     "output_type": "execute_result"
    }
   ],
   "source": [
    "star_wars.RespondentID.isnull().sum()"
   ]
  },
  {
   "cell_type": "code",
   "execution_count": 5,
   "metadata": {},
   "outputs": [],
   "source": [
    "# remove rows with missing unique ID\n",
    "star_wars = star_wars[star_wars['RespondentID'].notnull()]"
   ]
  },
  {
   "cell_type": "markdown",
   "metadata": {},
   "source": [
    "Now we will take a look at the next two columns, which are:\n",
    "\n",
    "- _Have you seen any of the 6 films in the Star Wars franchise?_\n",
    "- _Do you consider yourself to be a fan of the Star Wars film franchise?_"
   ]
  },
  {
   "cell_type": "code",
   "execution_count": 6,
   "metadata": {},
   "outputs": [
    {
     "data": {
      "text/plain": [
       "Yes    936\n",
       "No     250\n",
       "Name: Have you seen any of the 6 films in the Star Wars franchise?, dtype: int64"
      ]
     },
     "execution_count": 6,
     "metadata": {},
     "output_type": "execute_result"
    }
   ],
   "source": [
    "# see all of the unique values in a column\n",
    "star_wars['Have you seen any of the 6 films in the Star Wars franchise?'].value_counts(dropna=False)"
   ]
  },
  {
   "cell_type": "code",
   "execution_count": 7,
   "metadata": {},
   "outputs": [
    {
     "data": {
      "text/plain": [
       "Yes    552\n",
       "NaN    350\n",
       "No     284\n",
       "Name: Do you consider yourself to be a fan of the Star Wars film franchise?, dtype: int64"
      ]
     },
     "execution_count": 7,
     "metadata": {},
     "output_type": "execute_result"
    }
   ],
   "source": [
    "star_wars['Do you consider yourself to be a fan of the Star Wars film franchise?'].value_counts(dropna=False)"
   ]
  },
  {
   "cell_type": "markdown",
   "metadata": {},
   "source": [
    "Both columns are currently string types, because the main values they contain are Yes and No. We can make the data a bit easier to analyze down the road by converting each column to a Boolean having only the values True, False, and NaN. "
   ]
  },
  {
   "cell_type": "code",
   "execution_count": 8,
   "metadata": {},
   "outputs": [],
   "source": [
    "# perform the conversion to a Boolean\n",
    "star_wars['Have you seen any of the 6 films in the Star Wars franchise?'] = star_wars['Have you seen any of the 6 films in the Star Wars franchise?'].map({'Yes': True, 'No': False})\n",
    "star_wars['Do you consider yourself to be a fan of the Star Wars film franchise?'] = star_wars['Do you consider yourself to be a fan of the Star Wars film franchise?'].map({'Yes': True, 'No': False})"
   ]
  },
  {
   "cell_type": "markdown",
   "metadata": {},
   "source": [
    "The next six columns represent a single checkbox question. The respondent checked off a series of boxes in response to the question, _Which of the following Star Wars films have you seen? Please select all that apply_.\n",
    "\n",
    "The columns for this question are:\n",
    "\n",
    "- _Which of the following Star Wars films have you seen? Please select all that apply._ - Whether or not the respondent saw Star Wars: Episode I The Phantom Menace.\n",
    "- _Unnamed: 4_ - Whether or not the respondent saw Star Wars: Episode II Attack of the Clones.\n",
    "- _Unnamed: 5_ - Whether or not the respondent saw Star Wars: Episode III Revenge of the Sith.\n",
    "- _Unnamed: 6_ - Whether or not the respondent saw Star Wars: Episode IV A New Hope.\n",
    "- _Unnamed: 7_ - Whether or not the respondent saw Star Wars: Episode V The Empire Strikes Back.\n",
    "- _Unnamed: 8_ - Whether or not the respondent saw Star Wars: Episode VI Return of the Jedi.\n",
    "\n",
    "For each of these columns, if the value in a cell is the name of the movie, that means the respondent saw the movie. If the value is NaN, the respondent either didn't answer or did not see the movie. We will assume that they did not see the movie.\n",
    "\n",
    "We will need to convert each of these columns to a Boolean, then rename the column something more intuitive. We can convert the values the same way we did earlier, except that we will need to include the movie title and NaN in the mapping dictionary."
   ]
  },
  {
   "cell_type": "code",
   "execution_count": 9,
   "metadata": {},
   "outputs": [],
   "source": [
    "# perform conversion to a Boolean\n",
    "cols = ['Which of the following Star Wars films have you seen? Please select all that apply.','Unnamed: 4',\n",
    "        'Unnamed: 5','Unnamed: 6','Unnamed: 7','Unnamed: 8']\n",
    "for c in cols:\n",
    "    star_wars[c] = star_wars[c].apply(lambda l:True if type(l)==str else False)"
   ]
  },
  {
   "cell_type": "code",
   "execution_count": 10,
   "metadata": {},
   "outputs": [
    {
     "name": "stdout",
     "output_type": "stream",
     "text": [
      "==============\n",
      "True     673\n",
      "False    513\n",
      "Name: Which of the following Star Wars films have you seen? Please select all that apply., dtype: int64\n",
      "==============\n",
      "False    615\n",
      "True     571\n",
      "Name: Unnamed: 4, dtype: int64\n",
      "==============\n",
      "False    636\n",
      "True     550\n",
      "Name: Unnamed: 5, dtype: int64\n",
      "==============\n",
      "True     607\n",
      "False    579\n",
      "Name: Unnamed: 6, dtype: int64\n",
      "==============\n",
      "True     758\n",
      "False    428\n",
      "Name: Unnamed: 7, dtype: int64\n",
      "==============\n",
      "True     738\n",
      "False    448\n",
      "Name: Unnamed: 8, dtype: int64\n"
     ]
    }
   ],
   "source": [
    "# check conversion output \n",
    "for c in cols:\n",
    "    print('==============')\n",
    "    print(star_wars[c].value_counts(dropna=False))"
   ]
  },
  {
   "cell_type": "code",
   "execution_count": 11,
   "metadata": {},
   "outputs": [],
   "source": [
    "# rename column names\n",
    "new_column_names = {'Which of the following Star Wars films have you seen? Please select all that apply.':'ep_1_seen',\n",
    "                    'Unnamed: 4':'ep_2_seen',\n",
    "                    'Unnamed: 5':'ep_3_seen',\n",
    "                    'Unnamed: 6':'ep_4_seen',\n",
    "                    'Unnamed: 7':'ep_5_seen',\n",
    "                    'Unnamed: 8':'ep_6_seen'\n",
    "                   }\n",
    "star_wars = star_wars.rename(columns=new_column_names)"
   ]
  },
  {
   "cell_type": "markdown",
   "metadata": {},
   "source": [
    "The next six columns ask the respondent to rank the Star Wars movies in order of least favorite to most favorite. 1 means the film was the most favorite, and 6 means it was the least favorite. Each of the following columns can contain the value 1, 2, 3, 4, 5, 6, or NaN:\n",
    "\n",
    "- _Please rank the Star Wars films in order of preference with 1 being your favorite film in the franchise and 6 being your least favorite film._ - How much the respondent liked Star Wars: Episode I The Phantom Menace\n",
    "- _Unnamed: 10_ - How much the respondent liked Star Wars: Episode II Attack of the Clones\n",
    "- _Unnamed: 11_ - How much the respondent liked Star Wars: Episode III Revenge of the Sith\n",
    "- _Unnamed: 12_ - How much the respondent liked Star Wars: Episode IV A New Hope\n",
    "- _Unnamed: 13_ - How much the respondent liked Star Wars: Episode V The Empire Strikes Back\n",
    "- _Unnamed: 14_ - How much the respondent liked Star Wars: Episode VI Return of the Jedi\n",
    "\n"
   ]
  },
  {
   "cell_type": "code",
   "execution_count": 12,
   "metadata": {},
   "outputs": [],
   "source": [
    "# convert values to numeric type\n",
    "star_wars[star_wars.columns[9:15]] = star_wars[star_wars.columns[9:15]].astype(float)\n",
    "\n",
    "# rename column names\n",
    "new_column_names = {'Please rank the Star Wars films in order of preference with 1 being your favorite film in the franchise and 6 being your least favorite film.':'ranking_1',\n",
    "                    'Unnamed: 10':'ranking_2',\n",
    "                    'Unnamed: 11':'ranking_3',\n",
    "                    'Unnamed: 12':'ranking_4',\n",
    "                    'Unnamed: 13':'ranking_5',\n",
    "                    'Unnamed: 14':'ranking_6'\n",
    "                   }\n",
    "star_wars = star_wars.rename(columns=new_column_names)"
   ]
  },
  {
   "cell_type": "markdown",
   "metadata": {},
   "source": [
    "The data set has also three columns that ask the respondents to indicate if they are fans of the Star Wars franchise and the Star Trek series. Later on we will be able to check if both these famous epic movies share the same target group. The colunns are as follows:\n",
    "\n",
    "- 'Are you familiar with the Expanded Universe?',\n",
    "- 'Do you consider yourself to be a fan of the Expanded Universe?æ',\n",
    "- 'Do you consider yourself to be a fan of the Star Trek franchise?'"
   ]
  },
  {
   "cell_type": "code",
   "execution_count": 13,
   "metadata": {},
   "outputs": [],
   "source": [
    "# define a function to convert values to a Boolean\n",
    "def covert_values(row):\n",
    "    cols = star_wars.iloc[:,30:33].columns\n",
    "    for c in cols:\n",
    "        value = row[c]\n",
    "        if(value=='No'):\n",
    "            row[c] = False\n",
    "        elif(value=='Yes'):\n",
    "            row[c] = True\n",
    "    return row\n",
    "\n",
    "star_wars.iloc[:,30:33] = star_wars.iloc[:,30:33].apply(covert_values,axis=1)\n",
    "\n",
    "# rename column names\n",
    "new_column_names = {'Are you familiar with the Expanded Universe?':'is_familiar_with_star_wars',\n",
    "       'Do you consider yourself to be a fan of the Expanded Universe?æ':'is_star_wars_fan',\n",
    "       'Do you consider yourself to be a fan of the Star Trek franchise?':'is_star_trek_fan'\n",
    "                   }\n",
    "star_wars = star_wars.rename(columns=new_column_names)"
   ]
  },
  {
   "cell_type": "markdown",
   "metadata": {},
   "source": [
    "If we look carefully at the values in the column *is_star_wars_fan*, we can see that some of its missing values can be imputed with the values from the *is_familiar_with_star_wars* column. In particular, if a respondent is not familiar with the Star Wars movies, we can assume that he or she can not be a fan of the series either. Therefore, we will replace missing values in the column *is_star_wars_fan* with *False* if there is *False* in the *is_familiar_with_star_wars* column. "
   ]
  },
  {
   "cell_type": "code",
   "execution_count": 14,
   "metadata": {},
   "outputs": [
    {
     "data": {
      "text/html": [
       "<div>\n",
       "<style scoped>\n",
       "    .dataframe tbody tr th:only-of-type {\n",
       "        vertical-align: middle;\n",
       "    }\n",
       "\n",
       "    .dataframe tbody tr th {\n",
       "        vertical-align: top;\n",
       "    }\n",
       "\n",
       "    .dataframe thead th {\n",
       "        text-align: right;\n",
       "    }\n",
       "</style>\n",
       "<table border=\"1\" class=\"dataframe\">\n",
       "  <thead>\n",
       "    <tr style=\"text-align: right;\">\n",
       "      <th></th>\n",
       "      <th>is_familiar_with_star_wars</th>\n",
       "      <th>is_star_wars_fan</th>\n",
       "    </tr>\n",
       "  </thead>\n",
       "  <tbody>\n",
       "    <tr>\n",
       "      <th>1</th>\n",
       "      <td>True</td>\n",
       "      <td>False</td>\n",
       "    </tr>\n",
       "    <tr>\n",
       "      <th>2</th>\n",
       "      <td>NaN</td>\n",
       "      <td>NaN</td>\n",
       "    </tr>\n",
       "    <tr>\n",
       "      <th>3</th>\n",
       "      <td>False</td>\n",
       "      <td>NaN</td>\n",
       "    </tr>\n",
       "    <tr>\n",
       "      <th>4</th>\n",
       "      <td>False</td>\n",
       "      <td>NaN</td>\n",
       "    </tr>\n",
       "    <tr>\n",
       "      <th>5</th>\n",
       "      <td>True</td>\n",
       "      <td>False</td>\n",
       "    </tr>\n",
       "    <tr>\n",
       "      <th>6</th>\n",
       "      <td>True</td>\n",
       "      <td>False</td>\n",
       "    </tr>\n",
       "    <tr>\n",
       "      <th>7</th>\n",
       "      <td>True</td>\n",
       "      <td>False</td>\n",
       "    </tr>\n",
       "    <tr>\n",
       "      <th>8</th>\n",
       "      <td>False</td>\n",
       "      <td>NaN</td>\n",
       "    </tr>\n",
       "    <tr>\n",
       "      <th>9</th>\n",
       "      <td>False</td>\n",
       "      <td>NaN</td>\n",
       "    </tr>\n",
       "    <tr>\n",
       "      <th>10</th>\n",
       "      <td>False</td>\n",
       "      <td>NaN</td>\n",
       "    </tr>\n",
       "  </tbody>\n",
       "</table>\n",
       "</div>"
      ],
      "text/plain": [
       "   is_familiar_with_star_wars is_star_wars_fan\n",
       "1                        True            False\n",
       "2                         NaN              NaN\n",
       "3                       False              NaN\n",
       "4                       False              NaN\n",
       "5                        True            False\n",
       "6                        True            False\n",
       "7                        True            False\n",
       "8                       False              NaN\n",
       "9                       False              NaN\n",
       "10                      False              NaN"
      ]
     },
     "execution_count": 14,
     "metadata": {},
     "output_type": "execute_result"
    }
   ],
   "source": [
    "star_wars.iloc[:,30:32].head(10)"
   ]
  },
  {
   "cell_type": "code",
   "execution_count": 15,
   "metadata": {},
   "outputs": [
    {
     "name": "stdout",
     "output_type": "stream",
     "text": [
      "number of NaN values before imputation: \n",
      "973\n",
      "number of NaN values after imputation: \n",
      "358\n"
     ]
    }
   ],
   "source": [
    "print('number of NaN values before imputation: ')\n",
    "print(star_wars['is_star_wars_fan'].isnull().sum())\n",
    "\n",
    "# impute missing values\n",
    "is_familiar_mask = star_wars['is_familiar_with_star_wars'] == False\n",
    "star_wars['is_star_wars_fan'] = star_wars['is_star_wars_fan'].mask(is_familiar_mask,False)\n",
    "print('number of NaN values after imputation: ')\n",
    "print(star_wars['is_star_wars_fan'].isnull().sum())"
   ]
  },
  {
   "cell_type": "markdown",
   "metadata": {},
   "source": [
    "As we can see, due to the imputation the number of missing values in *is_star_wars_fan* has decreased almost by 2/3.\n",
    "\n",
    "And to finalize our data cleaning we have to check the last 4 columns:\n",
    "- _Gender_ - Gender of a respondent\n",
    "- _Age_ - Age of a respondent\n",
    "- _Household Income_ - Household income of a respondent\n",
    "- _Education_ - Education level of a respondent\n",
    "\n",
    "Those data will help us define the portrait of an average Star Wars fan."
   ]
  },
  {
   "cell_type": "code",
   "execution_count": 16,
   "metadata": {},
   "outputs": [
    {
     "data": {
      "text/plain": [
       "Female    549\n",
       "Male      497\n",
       "NaN       140\n",
       "Name: Gender, dtype: int64"
      ]
     },
     "execution_count": 16,
     "metadata": {},
     "output_type": "execute_result"
    }
   ],
   "source": [
    "# explore data in the column 'Gender'\n",
    "star_wars.iloc[:,33].value_counts(dropna=False)"
   ]
  },
  {
   "cell_type": "code",
   "execution_count": 17,
   "metadata": {},
   "outputs": [
    {
     "data": {
      "text/plain": [
       "45-60    291\n",
       "> 60     269\n",
       "30-44    268\n",
       "18-29    218\n",
       "NaN      140\n",
       "Name: Age, dtype: int64"
      ]
     },
     "execution_count": 17,
     "metadata": {},
     "output_type": "execute_result"
    }
   ],
   "source": [
    "# explore data in the column 'Age'\n",
    "star_wars.iloc[:,34].value_counts(dropna=False)"
   ]
  },
  {
   "cell_type": "code",
   "execution_count": 18,
   "metadata": {},
   "outputs": [
    {
     "data": {
      "text/plain": [
       "45-60    291\n",
       ">60      269\n",
       "30-44    268\n",
       "18-29    218\n",
       "NaN      140\n",
       "Name: Age, dtype: int64"
      ]
     },
     "execution_count": 18,
     "metadata": {},
     "output_type": "execute_result"
    }
   ],
   "source": [
    "# explore some values in the column 'Age'\n",
    "star_wars.iloc[:,34] = star_wars.iloc[:,34].apply(lambda l:'>60' if l=='> 60' else l)\n",
    "star_wars.iloc[:,34].value_counts(dropna=False)"
   ]
  },
  {
   "cell_type": "code",
   "execution_count": 19,
   "metadata": {},
   "outputs": [
    {
     "data": {
      "text/plain": [
       "NaN                    328\n",
       "$50,000 - $99,999      298\n",
       "$25,000 - $49,999      186\n",
       "$100,000 - $149,999    141\n",
       "$0 - $24,999           138\n",
       "$150,000+               95\n",
       "Name: Household Income, dtype: int64"
      ]
     },
     "execution_count": 19,
     "metadata": {},
     "output_type": "execute_result"
    }
   ],
   "source": [
    "# explore data in the column 'Household Income'\n",
    "star_wars.iloc[:,35].value_counts(dropna=False)"
   ]
  },
  {
   "cell_type": "code",
   "execution_count": 20,
   "metadata": {},
   "outputs": [
    {
     "data": {
      "text/plain": [
       "$50,000-$99,999      298\n",
       "$25,000-$49,999      186\n",
       "$100,000-$149,999    141\n",
       "<$24,999             138\n",
       "$150,000+             95\n",
       "Name: Household Income, dtype: int64"
      ]
     },
     "execution_count": 20,
     "metadata": {},
     "output_type": "execute_result"
    }
   ],
   "source": [
    "# reformat string values in the column 'Household Income'\n",
    "star_wars['Household Income'] = np.where(pd.isnull(star_wars['Household Income']),star_wars['Household Income'],\n",
    "         star_wars['Household Income'].astype(str).str.replace(' ','').str.strip())\n",
    "\n",
    "star_wars['Household Income'] = star_wars['Household Income'].apply(lambda l:'<$24,999'if l=='$0-$24,999' else l)\n",
    "\n",
    "star_wars['Household Income'].value_counts()"
   ]
  },
  {
   "cell_type": "code",
   "execution_count": 21,
   "metadata": {},
   "outputs": [
    {
     "data": {
      "text/plain": [
       "Some college or Associate degree    328\n",
       "Bachelor degree                     321\n",
       "Graduate degree                     275\n",
       "High school degree                  105\n",
       "Less than high school degree          7\n",
       "Name: Education, dtype: int64"
      ]
     },
     "execution_count": 21,
     "metadata": {},
     "output_type": "execute_result"
    }
   ],
   "source": [
    "star_wars['Education'].value_counts()"
   ]
  },
  {
   "cell_type": "markdown",
   "metadata": {},
   "source": [
    "## Data analysis\n",
    "### Rankings and views"
   ]
  },
  {
   "cell_type": "code",
   "execution_count": 22,
   "metadata": {},
   "outputs": [
    {
     "data": {
      "text/plain": [
       "Text(0.5,1,'Star Wars Episodes: ranking')"
      ]
     },
     "execution_count": 22,
     "metadata": {},
     "output_type": "execute_result"
    },
    {
     "data": {
      "image/png": "[encoded data removed]",
      "text/plain": [
       "<Figure size 720x504 with 1 Axes>"
      ]
     },
     "metadata": {},
     "output_type": "display_data"
    }
   ],
   "source": [
    "#build a graph to visualize episodes' rankings\n",
    "%matplotlib inline      \n",
    "star_wars.iloc[:,9:15].mean().plot.bar(figsize=(10,7))\n",
    "plt.xticks(np.arange(0,6),['Episode I','Episode II','Episode III','Episode IV','Episode V','Episode VI'],rotation=45)\n",
    "plt.ylabel(\"Ranking: 1.0 (the highest) - 6.0 (the lowest)\")\n",
    "plt.title(\"Star Wars Episodes: ranking\",fontsize=22)"
   ]
  },
  {
   "cell_type": "markdown",
   "metadata": {},
   "source": [
    "As can be seen from the graph, __Star Wars: Episode V The Empire Strikes Back__ appears to be ranked the highest. Interestingly, __the first three episodes are__ on average __ranked lower__ than the episodes VI, V and VI. Although the former were filmed much earlier and have less sophisticated visual effects, the American audience finds them more enjoyable. \n",
    "\n",
    "Let's figure out how many people have seen each movie. To achieve that, we will take the sum of the correspondings columns."
   ]
  },
  {
   "cell_type": "code",
   "execution_count": 23,
   "metadata": {},
   "outputs": [
    {
     "data": {
      "text/plain": [
       "Text(0.5,1,'Star Wars Episodes: the most watched')"
      ]
     },
     "execution_count": 23,
     "metadata": {},
     "output_type": "execute_result"
    },
    {
     "data": {
      "image/png": "[encoded data removed]",
      "text/plain": [
       "<Figure size 720x504 with 1 Axes>"
      ]
     },
     "metadata": {},
     "output_type": "display_data"
    }
   ],
   "source": [
    "#build a graph to visualize episodes' rankings\n",
    "star_wars.iloc[:,3:9].sum().plot.bar(figsize=(10,7))\n",
    "plt.xticks(np.arange(0,6),['Episode I','Episode II','Episode III','Episode IV','Episode V','Episode VI'],rotation=45)\n",
    "plt.ylabel(\"Number of views \\n(among the people surveyed)\")\n",
    "plt.title(\"Star Wars Episodes: the most watched\",fontsize=22)"
   ]
  },
  {
   "cell_type": "markdown",
   "metadata": {},
   "source": [
    "The graph above indicates the __same tendency: the numbers are distributed according to the rankings of the episodes. Obviously, the correlation of ranking and the number of views is strong. Episode V The Empire Strikes Back is leading__ here againg, whereas __the episodes II and III are the least watched__. \n",
    "\n",
    "Therefore, we can conclude that __Episode V \"The Empire Strikes Back\" is the most watched and ranked movie of the franchise__ in the USA."
   ]
  },
  {
   "cell_type": "markdown",
   "metadata": {},
   "source": [
    "### Rankings and views by gender"
   ]
  },
  {
   "cell_type": "markdown",
   "metadata": {},
   "source": [
    "We know which movies the survey population as a whole has ranked the highest. Now we will examine how certain segments of the survey population responded. There are several columns that segment our data into two groups. Here are a few examples:\n",
    "\n",
    "- _Do you consider yourself to be a fan of the Star Wars film franchise?_ - True or False\n",
    "- _Do you consider yourself to be a fan of the Star Trek franchise?_ - Yes or No\n",
    "- _Gender_ - Male or Female"
   ]
  },
  {
   "cell_type": "code",
   "execution_count": 24,
   "metadata": {},
   "outputs": [],
   "source": [
    "# split a dataframe into two gender groups\n",
    "males = star_wars[star_wars[\"Gender\"] == \"Male\"]\n",
    "females = star_wars[star_wars[\"Gender\"] == \"Female\"]"
   ]
  },
  {
   "cell_type": "code",
   "execution_count": 25,
   "metadata": {},
   "outputs": [
    {
     "data": {
      "image/png": "[encoded data removed]",
      "text/plain": [
       "<Figure size 720x504 with 1 Axes>"
      ]
     },
     "metadata": {},
     "output_type": "display_data"
    }
   ],
   "source": [
    "# draw a graph displaying rankings distribution by gender\n",
    "fig,ax = plt.subplots(figsize=(10,7))\n",
    "plt1 = ax.bar(arange(6)+1,males.iloc[:,9:15].mean(),0.5)\n",
    "ax.set_xticks(arange(6)+1.1)\n",
    "ax.set_yticks(arange(0,5.5,step=0.5))\n",
    "ax.set_xticklabels(['Episode I','Episode II','Episode III','Episode IV','Episode V','Episode VI'],rotation=45)\n",
    "plt.ylim(0,5.5)\n",
    "\n",
    "plt2 = ax.bar(arange(6)+1.2,females.iloc[:,9:15].mean(),0.5)\n",
    "\n",
    "ax.legend(handles=[plt1,plt2],labels=['men','women'],loc='upper center',frameon=False)\n",
    "plt.ylabel(\"Ranking: 1.0 (the highest) - 6.0 (the lowest)\")\n",
    "plt.title(\"Star Wars Episodes: ranking by gender\",fontsize=22)\n",
    "\n",
    "plt.show()"
   ]
  },
  {
   "cell_type": "markdown",
   "metadata": {},
   "source": [
    "The graph shows that there is __a slight difference in the rankings of the episodes__ compared by gender. Overall, women tend to rank the Star Wars film series a bit higher. Nevertheless, the overall tendency to prefer the last three episodes over the first ones remains valid for both genders."
   ]
  },
  {
   "cell_type": "code",
   "execution_count": 26,
   "metadata": {},
   "outputs": [
    {
     "data": {
      "image/png": "[encoded data removed]",
      "text/plain": [
       "<Figure size 720x504 with 1 Axes>"
      ]
     },
     "metadata": {},
     "output_type": "display_data"
    }
   ],
   "source": [
    "# draw a graph displaying the number of views by gender\n",
    "fig,ax = plt.subplots(figsize=(10,7))\n",
    "plt1 = ax.bar(arange(6)+1,males.iloc[:,3:9].sum(),0.5)\n",
    "ax.set_xticks(arange(6)+1.1)\n",
    "ax.set_xticklabels(['Episode I','Episode II','Episode III','Episode IV','Episode V','Episode VI'],rotation=45)\n",
    "\n",
    "plt2 = ax.bar(arange(6)+1.2,females.iloc[:,3:9].sum(),0.5)\n",
    "\n",
    "ax.legend(handles=[plt1,plt2],labels=['men','women'],loc='upper center',frameon=False)\n",
    "plt.ylabel(\"Number of views \\n(among the people surveyed)\")\n",
    "plt.title(\"Star Wars Episodes: the most watched by gender\",fontsize=22)\n",
    "\n",
    "plt.show()"
   ]
  },
  {
   "cell_type": "markdown",
   "metadata": {},
   "source": [
    "As we can see from the graph, __the Star Wars series are undoubtedly less popular among women__. Nonetheless, __both men and women have the same preferences__ when it comes to wathing a certain episode."
   ]
  },
  {
   "cell_type": "markdown",
   "metadata": {},
   "source": [
    "### The portrait of an average Star Wars fan\n",
    "Let's find out how an average Star Wars fan looks like. To solve this task, we have to answer the following questions:\n",
    "- Who is this person by gender?\n",
    "- What is his/her age?\n",
    "- What kind of education has he/she acquired?\n",
    "- What is his/her household income?\n",
    "- Are the Star Wars fans also fond of the Star Trek series?"
   ]
  },
  {
   "cell_type": "code",
   "execution_count": 27,
   "metadata": {},
   "outputs": [
    {
     "data": {
      "text/plain": [
       "<matplotlib.axes._subplots.AxesSubplot at 0x7fb63a915128>"
      ]
     },
     "execution_count": 27,
     "metadata": {},
     "output_type": "execute_result"
    },
    {
     "data": {
      "image/png": "[encoded data removed]",
      "text/plain": [
       "<Figure size 432x432 with 1 Axes>"
      ]
     },
     "metadata": {},
     "output_type": "display_data"
    }
   ],
   "source": [
    "# select data related to the Star War fans only\n",
    "fans = star_wars[star_wars['is_star_wars_fan']==True]\n",
    "\n",
    "# build a graph displaying gender composition of the Star Wars fans community\n",
    "fans['Gender'].value_counts().plot.pie(figsize = (6,6), autopct = '%.1f%%')"
   ]
  },
  {
   "cell_type": "markdown",
   "metadata": {},
   "source": [
    "The graph above indicates that __the core audience of the Star Wars franchise are men__. They account for 68% of all the fans surveyed. "
   ]
  },
  {
   "cell_type": "code",
   "execution_count": 28,
   "metadata": {},
   "outputs": [
    {
     "data": {
      "text/plain": [
       "Text(0.5,1,'Age variability the Star Wars fans \\nby age')"
      ]
     },
     "execution_count": 28,
     "metadata": {},
     "output_type": "execute_result"
    },
    {
     "data": {
      "image/png": "[encoded data removed]",
      "text/plain": [
       "<Figure size 720x504 with 1 Axes>"
      ]
     },
     "metadata": {},
     "output_type": "display_data"
    }
   ],
   "source": [
    "# build a graph displaying age composition of the Star Wars fans\n",
    "fans['Age'].value_counts().plot.bar(figsize=(10,7))\n",
    "plt.xticks(rotation=45)\n",
    "plt.xlabel(\"Age group\")\n",
    "plt.ylabel(\"%\")\n",
    "plt.title(\"Age variability the Star Wars fans \\nby age\",fontsize=22)"
   ]
  },
  {
   "cell_type": "markdown",
   "metadata": {},
   "source": [
    "The graph shows that __the largest fraction of the Star Wars fans is made up by 18-29 year-olds__. Interestingly, that __just over 40% of all the fans are 45+ years old__. Moreover, the difference in terms of size between the youngest and the oldest fractions is only 12%. We can suggest that such a high popularity of the series among various age groups can be explained by the following fact: the episodes IV-VI were filmed in the 1980s, whereas the episodes I-III were filmed in the late 2000s and early 2010s. Therefore, we can assume that the long presence of the franchise on the film market can partly explain __guite an extensive age variability__ among its fans."
   ]
  },
  {
   "cell_type": "code",
   "execution_count": 29,
   "metadata": {},
   "outputs": [
    {
     "data": {
      "text/plain": [
       "Text(0.5,1,'Education level: fans')"
      ]
     },
     "execution_count": 29,
     "metadata": {},
     "output_type": "execute_result"
    },
    {
     "data": {
      "image/png": "[encoded data removed]",
      "text/plain": [
       "<Figure size 720x504 with 1 Axes>"
      ]
     },
     "metadata": {},
     "output_type": "display_data"
    }
   ],
   "source": [
    "# build a graph displaying distribution of education levels among the Star Wars fans\n",
    "(fans['Education'].value_counts(normalize=True)*100).iloc[[3,0,1,2]].plot.bar(figsize=(10,7))\n",
    "plt.xticks(rotation=20)\n",
    "plt.xlabel(\"Education level\")\n",
    "plt.ylabel(\"%\")\n",
    "plt.title(\"Education level: fans\",fontsize=22)"
   ]
  },
  {
   "cell_type": "code",
   "execution_count": 30,
   "metadata": {},
   "outputs": [
    {
     "data": {
      "text/plain": [
       "Text(0.5,1,'Education level: all respondents')"
      ]
     },
     "execution_count": 30,
     "metadata": {},
     "output_type": "execute_result"
    },
    {
     "data": {
      "image/png": "[encoded data removed]",
      "text/plain": [
       "<Figure size 720x504 with 1 Axes>"
      ]
     },
     "metadata": {},
     "output_type": "display_data"
    }
   ],
   "source": [
    "# build a graph displaying distribution of education levels among all the respondents\n",
    "(star_wars['Education'].value_counts(normalize=True)*100).iloc[[4,3,0,1,2]].plot.bar(figsize=(10,7),\n",
    "                                        color=['#8b8b8b','#30a2da', '#fc4f30', '#e5ae38', '#6d904f'])\n",
    "plt.xticks(rotation=20)\n",
    "plt.xlabel(\"Education level\")\n",
    "plt.ylabel(\"%\")\n",
    "plt.title(\"Education level: all respondents\",fontsize=22)"
   ]
  },
  {
   "cell_type": "markdown",
   "metadata": {},
   "source": [
    "According to the graphs above, we can state that __the difference between the Star Wars fans and the rest of the respondents in terms of their education level is insignificant__.   "
   ]
  },
  {
   "cell_type": "code",
   "execution_count": 31,
   "metadata": {},
   "outputs": [
    {
     "data": {
      "image/png": "[encoded data removed]",
      "text/plain": [
       "<Figure size 720x504 with 1 Axes>"
      ]
     },
     "metadata": {},
     "output_type": "display_data"
    }
   ],
   "source": [
    "# draw a graph displaying distribution of household income\n",
    "fig,ax = plt.subplots(figsize=(10,7))\n",
    "plt1 = ax.bar(arange(5)+1,(star_wars['Household Income'].value_counts(normalize=True)*100).iloc[[3,1,0,2,4]].values,0.5)\n",
    "ax.set_xticks(arange(5)+1.1)\n",
    "ax.set_xticklabels(star_wars['Household Income'].value_counts().iloc[[3,1,0,2,4]].index,rotation=20)\n",
    "\n",
    "plt2 = ax.bar(arange(5)+1.2,(fans['Household Income'].value_counts(normalize=True)*100).iloc[[3,1,0,2,4]].values,0.5)\n",
    "\n",
    "ax.legend(handles=[plt1,plt2],labels=['all','fans'],loc='upper right',frameon=False)\n",
    "plt.ylabel(\"%\")\n",
    "plt.title(\"Household income: all vs fans\",fontsize=22)\n",
    "\n",
    "plt.show()"
   ]
  },
  {
   "cell_type": "markdown",
   "metadata": {},
   "source": [
    "The graph indicates that __most of the respondents as well as the Star Wars fans have a household income in the range of $ 50,000 - 99,999__. However, there are slightly more people with a higher income among the fans of the franchise."
   ]
  },
  {
   "cell_type": "code",
   "execution_count": 32,
   "metadata": {},
   "outputs": [
    {
     "data": {
      "text/html": [
       "<div>\n",
       "<style scoped>\n",
       "    .dataframe tbody tr th:only-of-type {\n",
       "        vertical-align: middle;\n",
       "    }\n",
       "\n",
       "    .dataframe tbody tr th {\n",
       "        vertical-align: top;\n",
       "    }\n",
       "\n",
       "    .dataframe thead th {\n",
       "        text-align: right;\n",
       "    }\n",
       "</style>\n",
       "<table border=\"1\" class=\"dataframe\">\n",
       "  <thead>\n",
       "    <tr style=\"text-align: right;\">\n",
       "      <th></th>\n",
       "      <th>is_star_trek_fan</th>\n",
       "      <th>is_star_wars_fan</th>\n",
       "    </tr>\n",
       "  </thead>\n",
       "  <tbody>\n",
       "    <tr>\n",
       "      <th>is_star_trek_fan</th>\n",
       "      <td>1.000000</td>\n",
       "      <td>0.166617</td>\n",
       "    </tr>\n",
       "    <tr>\n",
       "      <th>is_star_wars_fan</th>\n",
       "      <td>0.166617</td>\n",
       "      <td>1.000000</td>\n",
       "    </tr>\n",
       "  </tbody>\n",
       "</table>\n",
       "</div>"
      ],
      "text/plain": [
       "                  is_star_trek_fan  is_star_wars_fan\n",
       "is_star_trek_fan          1.000000          0.166617\n",
       "is_star_wars_fan          0.166617          1.000000"
      ]
     },
     "execution_count": 32,
     "metadata": {},
     "output_type": "execute_result"
    }
   ],
   "source": [
    "# check correlation \n",
    "star_wars.loc[:,['is_star_trek_fan','is_star_wars_fan']].astype(float).corr()"
   ]
  },
  {
   "cell_type": "markdown",
   "metadata": {},
   "source": [
    "As we see, the correlation of *is_star_trek_fan* and *is_star_wars_fan* columns is weak. Therefore, we can suggest that __the Star Wars fans do not necessarily share the same passion about the Star Trek series__ and vice versa. "
   ]
  },
  {
   "cell_type": "markdown",
   "metadata": {},
   "source": [
    "## Conclusions"
   ]
  },
  {
   "cell_type": "markdown",
   "metadata": {},
   "source": [
    "In this project, we have cleaned and explored the data set based on the survey of the Star Wars fans. We have also answered the following questions:\n",
    "- Is “The Empire Strikes Back” the best episode of the franchise?\n",
    "- Are there any differences in rankings and the size of the audience across genders?\n",
    "- How does an average fan of the Star Wars series look like (in terms of his/her gender, age, education level and household income)?\n",
    "\n",
    "__NB! This project is carried out according to the <a href='https://www.dataquest.io'>dataquest</a> instructions.__ "
   ]
  }
 ],
 "metadata": {
  "kernelspec": {
   "display_name": "Python 3",
   "language": "python",
   "name": "python3"
  },
  "language_info": {
   "codemirror_mode": {
    "name": "ipython",
    "version": 3
   },
   "file_extension": ".py",
   "mimetype": "text/x-python",
   "name": "python",
   "nbconvert_exporter": "python",
   "pygments_lexer": "ipython3",
   "version": "3.6.5"
  }
 },
 "nbformat": 4,
 "nbformat_minor": 2
}
